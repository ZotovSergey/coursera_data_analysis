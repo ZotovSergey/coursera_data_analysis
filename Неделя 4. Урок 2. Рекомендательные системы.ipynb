{
 "cells": [
  {
   "cell_type": "markdown",
   "metadata": {},
   "source": [
    "# Рекомендательные системы"
   ]
  },
  {
   "cell_type": "markdown",
   "metadata": {},
   "source": [
    "<b><i>Описание задачи</i></b>\n",
    "\n",
    "Небольшой интернет-магазин попросил вас добавить ранжирование товаров в блок \"Смотрели ранее\" - в нем теперь надо показывать не последние просмотренные пользователем товары, а те товары из просмотренных, которые он наиболее вероятно купит. Качество вашего решения будет оцениваться по количеству покупок в сравнении с прошлым решением в ходе А/В теста, т.к. по доходу от продаж статзначимость будет достигаться дольше из-за разброса цен. Таким образом, ничего заранее не зная про корреляцию оффлайновых и онлайновых метрик качества, в начале проекта вы можете лишь постараться оптимизировать <b>recall@k</b> и <b>precision@k</b>.\n",
    "\n",
    "Это задание посвящено построению простых бейзлайнов для этой задачи: ранжирование просмотренных товаров по частоте просмотров и по частоте покупок. Эти бейзлайны, с одной стороны, могут помочь вам грубо оценить возможный эффект от ранжирования товаров в блоке - например, чтобы вписать какие-то числа в коммерческое предложение заказчику, а с другой стороны, могут оказаться самым хорошим вариантом, если данных очень мало (недостаточно для обучения даже простых моделей).\n",
    "\n",
    "<b><i>Входные данные</i></b>\n",
    "\n",
    "Вам дается две выборки с пользовательскими сессиями - <b>id</b>-шниками просмотренных и <b>id</b>-шниками купленных товаров. Одна выборка будет использоваться для обучения (оценки популярностей товаров), а другая - для теста.\n",
    "\n",
    "В файлах записаны сессии по одной в каждой строке. Формат сессии: id просмотренных товаров через , затем идёт ; после чего следуют id купленных товаров (если такие имеются), разделённые запятой. Например, <b>1,2,3,4;</b> или <b>1,2,3,4;5,6.</b>\n",
    "\n",
    "Гарантируется, что среди <b>id</b> купленных товаров все различные.\n",
    "\n",
    "<b><i>Важно:</b></i>\n",
    "\n",
    "1. Сессии, в которых пользователь ничего не купил, исключаем из оценки качества.\n",
    "2. Если товар не встречался в обучающей выборке, его популярность равна 0.\n",
    "* Рекомендуем разные товары. И их число должно быть не больше, чем количество различных просмотренных пользователем товаров.\n",
    "* Рекомендаций всегда не больше, чем минимум из двух чисел: количество просмотренных пользователем товаров и <b>k</b> в <b>recall@k</b> / <b>precision@k</b>.\n",
    "\n",
    "<b><i>Задание</b></i>"
   ]
  },
  {
   "cell_type": "markdown",
   "metadata": {},
   "source": [
    "1. На обучении постройте частоты появления <b>id</b> в просмотренных и в купленных (<b>id</b> может несколько раз появляться в просмотренных, все появления надо учитывать)"
   ]
  },
  {
   "cell_type": "code",
   "execution_count": 1,
   "metadata": {},
   "outputs": [],
   "source": [
    "import numpy as np\n",
    "import pandas as pd"
   ]
  },
  {
   "cell_type": "code",
   "execution_count": 2,
   "metadata": {},
   "outputs": [],
   "source": [
    "train_data_file = open('coursera_sessions_train.txt', 'r')"
   ]
  },
  {
   "cell_type": "code",
   "execution_count": 3,
   "metadata": {},
   "outputs": [],
   "source": [
    "goods_dict = {}\n",
    "for session_str in train_data_file:\n",
    "    view_goods_id_in_session_str, buy_goods_id_in_session_str = str.split(session_str[:-1], ';')\n",
    "    view_goods_id_in_session_list = str.split(view_goods_id_in_session_str, ',')\n",
    "    for view_good_id in view_goods_id_in_session_list:\n",
    "        if len(view_good_id) > 0:\n",
    "            view_good_id = np.int32(view_good_id)\n",
    "            if view_good_id not in goods_dict:\n",
    "                goods_dict.update({view_good_id: [0, 0]})\n",
    "            goods_dict[view_good_id][0] += 1\n",
    "        \n",
    "    buy_goods_id_in_session_list = str.split(buy_goods_id_in_session_str, ',')\n",
    "    for buy_good_id in buy_goods_id_in_session_list:\n",
    "        if len(buy_good_id) > 0:\n",
    "            buy_good_id = np.int32(buy_good_id)\n",
    "            if buy_good_id not in goods_dict:\n",
    "                goods_dict.update({buy_good_id: [0, 0]})\n",
    "            goods_dict[buy_good_id][1] += 1"
   ]
  },
  {
   "cell_type": "code",
   "execution_count": 4,
   "metadata": {},
   "outputs": [],
   "source": [
    "goods_pop_table = {'id': np.array(goods_dict.keys()),\n",
    "                   'view_num': np.array(goods_dict.values())[:, 0],\n",
    "                   'buy_num': np.array(goods_dict.values())[:, 1]}\n",
    "goods_pop_df = pd.DataFrame(goods_pop_table)\n",
    "goods_pop_df = goods_pop_df[['id', 'view_num', 'buy_num']]"
   ]
  },
  {
   "cell_type": "code",
   "execution_count": 5,
   "metadata": {},
   "outputs": [
    {
     "data": {
      "text/html": [
       "<div>\n",
       "<style scoped>\n",
       "    .dataframe tbody tr th:only-of-type {\n",
       "        vertical-align: middle;\n",
       "    }\n",
       "\n",
       "    .dataframe tbody tr th {\n",
       "        vertical-align: top;\n",
       "    }\n",
       "\n",
       "    .dataframe thead th {\n",
       "        text-align: right;\n",
       "    }\n",
       "</style>\n",
       "<table border=\"1\" class=\"dataframe\">\n",
       "  <thead>\n",
       "    <tr style=\"text-align: right;\">\n",
       "      <th></th>\n",
       "      <th>id</th>\n",
       "      <th>view_num</th>\n",
       "      <th>buy_num</th>\n",
       "    </tr>\n",
       "  </thead>\n",
       "  <tbody>\n",
       "    <tr>\n",
       "      <th>0</th>\n",
       "      <td>0</td>\n",
       "      <td>6</td>\n",
       "      <td>0</td>\n",
       "    </tr>\n",
       "    <tr>\n",
       "      <th>1</th>\n",
       "      <td>1</td>\n",
       "      <td>6</td>\n",
       "      <td>0</td>\n",
       "    </tr>\n",
       "    <tr>\n",
       "      <th>2</th>\n",
       "      <td>2</td>\n",
       "      <td>9</td>\n",
       "      <td>0</td>\n",
       "    </tr>\n",
       "    <tr>\n",
       "      <th>3</th>\n",
       "      <td>3</td>\n",
       "      <td>7</td>\n",
       "      <td>0</td>\n",
       "    </tr>\n",
       "    <tr>\n",
       "      <th>4</th>\n",
       "      <td>4</td>\n",
       "      <td>11</td>\n",
       "      <td>0</td>\n",
       "    </tr>\n",
       "    <tr>\n",
       "      <th>5</th>\n",
       "      <td>5</td>\n",
       "      <td>4</td>\n",
       "      <td>1</td>\n",
       "    </tr>\n",
       "    <tr>\n",
       "      <th>6</th>\n",
       "      <td>6</td>\n",
       "      <td>283</td>\n",
       "      <td>2</td>\n",
       "    </tr>\n",
       "    <tr>\n",
       "      <th>7</th>\n",
       "      <td>7</td>\n",
       "      <td>312</td>\n",
       "      <td>2</td>\n",
       "    </tr>\n",
       "    <tr>\n",
       "      <th>8</th>\n",
       "      <td>8</td>\n",
       "      <td>225</td>\n",
       "      <td>3</td>\n",
       "    </tr>\n",
       "    <tr>\n",
       "      <th>9</th>\n",
       "      <td>9</td>\n",
       "      <td>7</td>\n",
       "      <td>0</td>\n",
       "    </tr>\n",
       "  </tbody>\n",
       "</table>\n",
       "</div>"
      ],
      "text/plain": [
       "   id  view_num  buy_num\n",
       "0   0         6        0\n",
       "1   1         6        0\n",
       "2   2         9        0\n",
       "3   3         7        0\n",
       "4   4        11        0\n",
       "5   5         4        1\n",
       "6   6       283        2\n",
       "7   7       312        2\n",
       "8   8       225        3\n",
       "9   9         7        0"
      ]
     },
     "execution_count": 5,
     "metadata": {},
     "output_type": "execute_result"
    }
   ],
   "source": [
    "goods_pop_df.head(10)"
   ]
  },
  {
   "cell_type": "markdown",
   "metadata": {},
   "source": [
    "2. Реализуйте два алгоритма рекомендаций:\n",
    "    * сортировка просмотренных <b>id</b> по популярности (частота появления в просмотренных),\n",
    "    * сортировка просмотренных <b>id</b> по покупаемости (частота появления в покупках)."
   ]
  },
  {
   "cell_type": "code",
   "execution_count": 6,
   "metadata": {},
   "outputs": [],
   "source": [
    "def to_do_recommend_list(view_goods_id_list, goods_dict, max_recommend_num, recommend_algorithm='view'):\n",
    "#     unique_view_goods_id_in_session_list = list(set(view_goods_id_list))\n",
    "    unique_view_goods_id_in_session_list = []\n",
    "    for val in view_goods_id_list:\n",
    "        if val not in unique_view_goods_id_in_session_list:\n",
    "            unique_view_goods_id_in_session_list.append(val)\n",
    "    view_goods_data = []\n",
    "    for i, view_good_id in enumerate(unique_view_goods_id_in_session_list):\n",
    "        if view_good_id in goods_dict:\n",
    "            view_buy_num = goods_dict[view_good_id]\n",
    "            view_goods_data.append([view_good_id, view_buy_num[0], view_buy_num[1], i])\n",
    "        else:\n",
    "            view_goods_data.append([view_good_id, 0, 0, i])\n",
    "    if recommend_algorithm == 'view':\n",
    "        sorted_view_goods_data = sorted(view_goods_data, key = lambda x: (x[1], -x[3]))\n",
    "    else:\n",
    "        sorted_view_goods_data = sorted(view_goods_data, key = lambda x: (x[2], -x[3]))\n",
    "    if len(sorted_view_goods_data) <= max_recommend_num:\n",
    "        recommended_goods = np.array(sorted_view_goods_data)[:, 0]\n",
    "        A = np.array(sorted_view_goods_data)[:]\n",
    "    else:\n",
    "        recommended_goods = np.array(sorted_view_goods_data)[-max_recommend_num:, 0]\n",
    "        A = np.array(sorted_view_goods_data)[-max_recommend_num:]\n",
    "    return recommended_goods"
   ]
  },
  {
   "cell_type": "code",
   "execution_count": 7,
   "metadata": {},
   "outputs": [],
   "source": [
    "def to_calc_metrics_with_view_recommend(data_file, goods_dict, k, recommend_algorithm='view'):\n",
    "    precisions = []\n",
    "    recalls = []\n",
    "    for session_str in data_file:\n",
    "        session_str = session_str[:-1]\n",
    "        view_goods_id_in_session_str, buy_goods_id_in_session_str = str.split(session_str, ';')\n",
    "        if buy_goods_id_in_session_str is not '':\n",
    "            view_goods_id_in_session_list = np.int32(np.array(str.split(view_goods_id_in_session_str, ',')))\n",
    "            buy_goods_id_in_session_list = np.int32(np.array(str.split(buy_goods_id_in_session_str, ',')))\n",
    "            recommended_goods = to_do_recommend_list(view_goods_id_in_session_list, goods_dict, k, recommend_algorithm=recommend_algorithm)\n",
    "            bought_from_recommended = 0\n",
    "            for bought_goods in buy_goods_id_in_session_list:\n",
    "                if bought_goods in recommended_goods:\n",
    "                    bought_from_recommended += 1\n",
    "#             precision = bought_from_recommended / len(recommended_goods)\n",
    "            precision = bought_from_recommended / float(k)\n",
    "            precisions.append(precision)\n",
    "            recall = bought_from_recommended / float(len(buy_goods_id_in_session_list))\n",
    "            recalls.append(recall)\n",
    "    average_precision = np.array(precisions).mean()\n",
    "    average_recall = np.array(recalls).mean()\n",
    "    return round(average_recall, 2), round(average_precision, 2)"
   ]
  },
  {
   "cell_type": "markdown",
   "metadata": {},
   "source": [
    "3. Для данных алгоритмов выпишите через пробел <b>AverageRecall@1</b>, <b>AveragePrecision@1</b>, <b>AverageRecall@5</b>, <b>AveragePrecision@5</b> на обучающей и тестовых выборках, округляя до 2 знака после запятой. Это будут ваши ответы в этом задании. Посмотрите, как они соотносятся друг с другом. Где качество получилось выше? Значимо ли это различие? Обратите внимание на различие качества на обучающей и тестовой выборке в случае рекомендаций по частотам покупки."
   ]
  },
  {
   "cell_type": "code",
   "execution_count": 8,
   "metadata": {},
   "outputs": [
    {
     "data": {
      "text/plain": [
       "(0.44, 0.51)"
      ]
     },
     "execution_count": 8,
     "metadata": {},
     "output_type": "execute_result"
    }
   ],
   "source": [
    "train_data_file = open('coursera_sessions_train.txt', 'r')\n",
    "to_calc_metrics_with_view_recommend(train_data_file, goods_dict, 1, recommend_algorithm='view')"
   ]
  },
  {
   "cell_type": "code",
   "execution_count": 9,
   "metadata": {},
   "outputs": [
    {
     "data": {
      "text/plain": [
       "(0.82, 0.21)"
      ]
     },
     "execution_count": 9,
     "metadata": {},
     "output_type": "execute_result"
    }
   ],
   "source": [
    "train_data_file = open('coursera_sessions_train.txt', 'r')\n",
    "to_calc_metrics_with_view_recommend(train_data_file, goods_dict, 5, recommend_algorithm='view')"
   ]
  },
  {
   "cell_type": "code",
   "execution_count": 10,
   "metadata": {},
   "outputs": [
    {
     "data": {
      "text/plain": [
       "(0.42, 0.48)"
      ]
     },
     "execution_count": 10,
     "metadata": {},
     "output_type": "execute_result"
    }
   ],
   "source": [
    "test_data_file = open('coursera_sessions_test.txt', 'r')\n",
    "to_calc_metrics_with_view_recommend(test_data_file, goods_dict, 1, recommend_algorithm='view')"
   ]
  },
  {
   "cell_type": "code",
   "execution_count": 11,
   "metadata": {},
   "outputs": [
    {
     "data": {
      "text/plain": [
       "(0.8, 0.2)"
      ]
     },
     "execution_count": 11,
     "metadata": {},
     "output_type": "execute_result"
    }
   ],
   "source": [
    "test_data_file = open('coursera_sessions_test.txt', 'r')\n",
    "to_calc_metrics_with_view_recommend(test_data_file, goods_dict, 5, recommend_algorithm='view')"
   ]
  },
  {
   "cell_type": "code",
   "execution_count": 12,
   "metadata": {},
   "outputs": [
    {
     "data": {
      "text/plain": [
       "(0.69, 0.8)"
      ]
     },
     "execution_count": 12,
     "metadata": {},
     "output_type": "execute_result"
    }
   ],
   "source": [
    "train_data_file = open('coursera_sessions_train.txt', 'r')\n",
    "to_calc_metrics_with_view_recommend(train_data_file, goods_dict, 1, recommend_algorithm='buy')"
   ]
  },
  {
   "cell_type": "code",
   "execution_count": 13,
   "metadata": {},
   "outputs": [
    {
     "data": {
      "text/plain": [
       "(0.93, 0.25)"
      ]
     },
     "execution_count": 13,
     "metadata": {},
     "output_type": "execute_result"
    }
   ],
   "source": [
    "train_data_file = open('coursera_sessions_train.txt', 'r')\n",
    "to_calc_metrics_with_view_recommend(train_data_file, goods_dict, 5, recommend_algorithm='buy')"
   ]
  },
  {
   "cell_type": "code",
   "execution_count": 14,
   "metadata": {},
   "outputs": [
    {
     "data": {
      "text/plain": [
       "(0.46, 0.53)"
      ]
     },
     "execution_count": 14,
     "metadata": {},
     "output_type": "execute_result"
    }
   ],
   "source": [
    "test_data_file = open('coursera_sessions_test.txt', 'r')\n",
    "to_calc_metrics_with_view_recommend(test_data_file, goods_dict, 1, recommend_algorithm='buy')"
   ]
  },
  {
   "cell_type": "code",
   "execution_count": 15,
   "metadata": {},
   "outputs": [
    {
     "data": {
      "text/plain": [
       "(0.82, 0.21)"
      ]
     },
     "execution_count": 15,
     "metadata": {},
     "output_type": "execute_result"
    }
   ],
   "source": [
    "test_data_file = open('coursera_sessions_test.txt', 'r')\n",
    "to_calc_metrics_with_view_recommend(test_data_file, goods_dict, 5, recommend_algorithm='buy')"
   ]
  },
  {
   "cell_type": "code",
   "execution_count": 16,
   "metadata": {},
   "outputs": [
    {
     "data": {
      "text/plain": [
       "[[8, 2, 8],\n",
       " [2, 2, 5],\n",
       " [6, 2, 4],\n",
       " [1, 3, 10],\n",
       " [4, 3, 5],\n",
       " [10, 5, 1],\n",
       " [7, 6, 11],\n",
       " [5, 6, 10],\n",
       " [9, 7, 10],\n",
       " [3, 7, 5]]"
      ]
     },
     "execution_count": 16,
     "metadata": {},
     "output_type": "execute_result"
    }
   ],
   "source": [
    "view_goods_data = [[1, 3, 10], [2, 2, 5], [3, 7, 5], [4, 3, 5], [5, 6, 10], [6, 2, 4], [7, 6, 11], [8, 2, 8], [9, 7, 10], [10, 5, 1]]\n",
    "A = sorted(view_goods_data, key = lambda x: (x[1], -x[2]))\n",
    "A"
   ]
  },
  {
   "cell_type": "code",
   "execution_count": 17,
   "metadata": {},
   "outputs": [
    {
     "data": {
      "text/plain": [
       "array([ 8,  2,  6,  1,  4, 10,  7,  5,  9,  3])"
      ]
     },
     "execution_count": 17,
     "metadata": {},
     "output_type": "execute_result"
    }
   ],
   "source": [
    "np.array(A)[:, 0]"
   ]
  },
  {
   "cell_type": "code",
   "execution_count": 18,
   "metadata": {},
   "outputs": [
    {
     "data": {
      "text/plain": [
       "{1, 2, 3, 5, 10}"
      ]
     },
     "execution_count": 18,
     "metadata": {},
     "output_type": "execute_result"
    }
   ],
   "source": [
    "set([1, 1, 2, 5, 3, 2, 10, 1, 5])"
   ]
  },
  {
   "cell_type": "code",
   "execution_count": 19,
   "metadata": {},
   "outputs": [],
   "source": [
    "A = [1, 1, 2, 5, 3, 2, 10, 1, 5, -3, 7]\n",
    "B = []\n",
    "for a in A:\n",
    "    if a not in B:\n",
    "        B.append(a)"
   ]
  },
  {
   "cell_type": "code",
   "execution_count": 20,
   "metadata": {},
   "outputs": [
    {
     "data": {
      "text/plain": [
       "[1, 2, 5, 3, 10, -3, 7]"
      ]
     },
     "execution_count": 20,
     "metadata": {},
     "output_type": "execute_result"
    }
   ],
   "source": [
    "B"
   ]
  },
  {
   "cell_type": "markdown",
   "metadata": {},
   "source": [
    "<b><i>Дополнительные вопросы</b></i>\n",
    "\n",
    "1. Обратите внимание, что при сортировке по покупаемости возникает много товаров с одинаковым рангом - это означает, что значение метрик будет зависеть от того, как мы будем сортировать товары с одинаковым рангом. Попробуйте убедиться, что при изменении сортировки таких товаров recall@k меняется. Подумайте, как оценить минимальное и максимальное значение recall@k в зависимости от правила сортировки.\n",
    "2. Мы обучаемся и тестируемся на полных сессиях (в которых есть все просмотренные за сессию товары). Подумайте, почему полученная нами оценка качества рекомендаций в этом случае несколько завышена."
   ]
  }
 ],
 "metadata": {
  "kernelspec": {
   "display_name": "Python 2",
   "language": "python",
   "name": "python2"
  },
  "language_info": {
   "codemirror_mode": {
    "name": "ipython",
    "version": 2
   },
   "file_extension": ".py",
   "mimetype": "text/x-python",
   "name": "python",
   "nbconvert_exporter": "python",
   "pygments_lexer": "ipython2",
   "version": "2.7.18"
  }
 },
 "nbformat": 4,
 "nbformat_minor": 2
}
