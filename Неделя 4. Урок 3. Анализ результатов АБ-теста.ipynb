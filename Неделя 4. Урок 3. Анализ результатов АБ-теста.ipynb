{
 "cells": [
  {
   "cell_type": "markdown",
   "metadata": {},
   "source": [
    "# Анализ результатов АБ-теста\n",
    "В данном задании вам нужно будет\n",
    "\n",
    "* проанализировать АБ  тест,  проведенный на реальных пользователях Яндекса;\n",
    "* подтвердить или опровергнуть наличие изменений в пользовательском поведении между контрольной (control)  и тестовой (exp)  группами;\n",
    "* определить характер этих изменений и практическую значимость вводимого изменения;\n",
    "* понять, какая из пользовательских групп более всего проигрывает / выигрывает   от тестируемого изменения (локализовать изменение).\n",
    "\n",
    "<b>Описание  данных:</b>\n",
    "\n",
    "* userID:  уникальный идентификатор пользователя;\n",
    "* browser:  браузер, который использовал userID;\n",
    "* slot: в каком статусе пользователь участвовал в исследовании (exp = видел измененную страницу, control  = видел неизменную страницу);\n",
    "* n_clicks: количество кликов, которые пользоваль совершил за n_queries;\n",
    "* n_queries: количество запросов, который совершил userID, пользуясь браузером browser;\n",
    "* n_nonclk_queries: количество запросов пользователя, в которых  им не было совершено ни одного клика;\n",
    "* Обращаем ваше внимание, что не все люди используют только один браузер, поэтому в столбце userID есть повторяющиеся идентификаторы. В предлагаемых данных  уникальным является сочетание userID и browser.\n",
    "\n",
    "Основная метрика, на которой мы сосредоточимся в этой работе, — это количество пользовательских кликов на web-странице в зависимости от тестируемого изменения этой страницы."
   ]
  },
  {
   "cell_type": "markdown",
   "metadata": {},
   "source": [
    "Посчитайте, насколько в группе exp больше пользовательских кликов по сравнению с группой control в процентах от числа кликов в контрольной группе."
   ]
  },
  {
   "cell_type": "code",
   "execution_count": 1,
   "metadata": {},
   "outputs": [],
   "source": [
    "import numpy as np\n",
    "import pandas as pd\n",
    "import scipy as sp\n",
    "from statsmodels.stats.weightstats import *"
   ]
  },
  {
   "cell_type": "code",
   "execution_count": 2,
   "metadata": {},
   "outputs": [],
   "source": [
    "df = pd.read_csv('ab_browser_test.csv')"
   ]
  },
  {
   "cell_type": "code",
   "execution_count": 3,
   "metadata": {},
   "outputs": [
    {
     "data": {
      "text/html": [
       "<div>\n",
       "<style scoped>\n",
       "    .dataframe tbody tr th:only-of-type {\n",
       "        vertical-align: middle;\n",
       "    }\n",
       "\n",
       "    .dataframe tbody tr th {\n",
       "        vertical-align: top;\n",
       "    }\n",
       "\n",
       "    .dataframe thead th {\n",
       "        text-align: right;\n",
       "    }\n",
       "</style>\n",
       "<table border=\"1\" class=\"dataframe\">\n",
       "  <thead>\n",
       "    <tr style=\"text-align: right;\">\n",
       "      <th></th>\n",
       "      <th>userID</th>\n",
       "      <th>browser</th>\n",
       "      <th>slot</th>\n",
       "      <th>n_clicks</th>\n",
       "      <th>n_queries</th>\n",
       "      <th>n_nonclk_queries</th>\n",
       "    </tr>\n",
       "  </thead>\n",
       "  <tbody>\n",
       "    <tr>\n",
       "      <th>0</th>\n",
       "      <td>1</td>\n",
       "      <td>Browser #2</td>\n",
       "      <td>exp</td>\n",
       "      <td>23</td>\n",
       "      <td>32</td>\n",
       "      <td>19</td>\n",
       "    </tr>\n",
       "    <tr>\n",
       "      <th>1</th>\n",
       "      <td>3</td>\n",
       "      <td>Browser #4</td>\n",
       "      <td>exp</td>\n",
       "      <td>3</td>\n",
       "      <td>4</td>\n",
       "      <td>2</td>\n",
       "    </tr>\n",
       "    <tr>\n",
       "      <th>2</th>\n",
       "      <td>5</td>\n",
       "      <td>Browser #4</td>\n",
       "      <td>exp</td>\n",
       "      <td>29</td>\n",
       "      <td>35</td>\n",
       "      <td>16</td>\n",
       "    </tr>\n",
       "    <tr>\n",
       "      <th>3</th>\n",
       "      <td>6</td>\n",
       "      <td>Browser #4</td>\n",
       "      <td>control</td>\n",
       "      <td>12</td>\n",
       "      <td>6</td>\n",
       "      <td>0</td>\n",
       "    </tr>\n",
       "    <tr>\n",
       "      <th>4</th>\n",
       "      <td>7</td>\n",
       "      <td>Browser #4</td>\n",
       "      <td>exp</td>\n",
       "      <td>54</td>\n",
       "      <td>68</td>\n",
       "      <td>30</td>\n",
       "    </tr>\n",
       "    <tr>\n",
       "      <th>5</th>\n",
       "      <td>8</td>\n",
       "      <td>Browser #4</td>\n",
       "      <td>control</td>\n",
       "      <td>4</td>\n",
       "      <td>4</td>\n",
       "      <td>1</td>\n",
       "    </tr>\n",
       "    <tr>\n",
       "      <th>6</th>\n",
       "      <td>9</td>\n",
       "      <td>Browser #4</td>\n",
       "      <td>exp</td>\n",
       "      <td>6</td>\n",
       "      <td>3</td>\n",
       "      <td>1</td>\n",
       "    </tr>\n",
       "    <tr>\n",
       "      <th>7</th>\n",
       "      <td>10</td>\n",
       "      <td>Browser #4</td>\n",
       "      <td>control</td>\n",
       "      <td>22</td>\n",
       "      <td>15</td>\n",
       "      <td>2</td>\n",
       "    </tr>\n",
       "    <tr>\n",
       "      <th>8</th>\n",
       "      <td>13</td>\n",
       "      <td>Browser #14</td>\n",
       "      <td>exp</td>\n",
       "      <td>2</td>\n",
       "      <td>4</td>\n",
       "      <td>3</td>\n",
       "    </tr>\n",
       "    <tr>\n",
       "      <th>9</th>\n",
       "      <td>15</td>\n",
       "      <td>Browser #14</td>\n",
       "      <td>control</td>\n",
       "      <td>2</td>\n",
       "      <td>2</td>\n",
       "      <td>0</td>\n",
       "    </tr>\n",
       "  </tbody>\n",
       "</table>\n",
       "</div>"
      ],
      "text/plain": [
       "   userID      browser     slot  n_clicks  n_queries  n_nonclk_queries\n",
       "0       1   Browser #2      exp        23         32                19\n",
       "1       3   Browser #4      exp         3          4                 2\n",
       "2       5   Browser #4      exp        29         35                16\n",
       "3       6   Browser #4  control        12          6                 0\n",
       "4       7   Browser #4      exp        54         68                30\n",
       "5       8   Browser #4  control         4          4                 1\n",
       "6       9   Browser #4      exp         6          3                 1\n",
       "7      10   Browser #4  control        22         15                 2\n",
       "8      13  Browser #14      exp         2          4                 3\n",
       "9      15  Browser #14  control         2          2                 0"
      ]
     },
     "execution_count": 3,
     "metadata": {},
     "output_type": "execute_result"
    }
   ],
   "source": [
    "df.head(10)"
   ]
  },
  {
   "cell_type": "code",
   "execution_count": 4,
   "metadata": {},
   "outputs": [],
   "source": [
    "exp_group = df[df['slot'] == 'exp']\n",
    "control_group = df[df['slot'] == 'control']"
   ]
  },
  {
   "cell_type": "code",
   "execution_count": 5,
   "metadata": {},
   "outputs": [],
   "source": [
    "exp_clicks = exp_group['n_clicks'].sum()\n",
    "control_clicks = control_group['n_clicks'].sum()"
   ]
  },
  {
   "cell_type": "code",
   "execution_count": 6,
   "metadata": {},
   "outputs": [
    {
     "data": {
      "text/plain": [
       "1.6135689824415806"
      ]
     },
     "execution_count": 6,
     "metadata": {},
     "output_type": "execute_result"
    }
   ],
   "source": [
    "100 * (float(exp_clicks) - float(control_clicks)) / control_clicks"
   ]
  },
  {
   "cell_type": "markdown",
   "metadata": {},
   "source": [
    "Давайте попробуем посмотреть более внимательно на разницу между двумя группами (control и exp) относительно количества пользовательских кликов.\n",
    "\n",
    "Для этого постройте с помощью бутстрепа 95% доверительный интервал для средних значений и медиан количества кликов в каждой из двух групп."
   ]
  },
  {
   "cell_type": "code",
   "execution_count": 7,
   "metadata": {},
   "outputs": [],
   "source": [
    "def get_bootstrap_samples(data, n_samples):\n",
    "    indices = np.random.randint(0, len(data), (n_samples, len(data)))\n",
    "    samples = data[indices]\n",
    "    return samples"
   ]
  },
  {
   "cell_type": "code",
   "execution_count": 8,
   "metadata": {},
   "outputs": [],
   "source": [
    "def stat_intervals(stat, alpha):\n",
    "    boundaries = np.percentile(stat, [100 * alpha / 2., 100 * (1 - alpha / 2.)])\n",
    "    return boundaries"
   ]
  },
  {
   "cell_type": "code",
   "execution_count": 9,
   "metadata": {},
   "outputs": [
    {
     "name": "stdout",
     "output_type": "stream",
     "text": [
      "mean exp: [11.51082845 11.65365029]\n",
      "mean control: [11.21888332 11.35878682]\n",
      "mean dif: [-0.4013381  -0.20075229]\n"
     ]
    }
   ],
   "source": [
    "exp_mean_scores = map(np.mean, get_bootstrap_samples(exp_group['n_clicks'].values, 1000))\n",
    "control_mean_scores = map(np.mean, get_bootstrap_samples(control_group['n_clicks'].values, 1000))\n",
    "delta_median_scores = map(lambda x: x[1] - x[0], zip(exp_mean_scores, control_mean_scores))\n",
    "print \"mean exp:\", stat_intervals(exp_mean_scores, 0.05)\n",
    "print \"mean control:\", stat_intervals(control_mean_scores, 0.05)\n",
    "print \"mean dif:\", stat_intervals(delta_median_scores, 0.05)"
   ]
  },
  {
   "cell_type": "code",
   "execution_count": 10,
   "metadata": {},
   "outputs": [
    {
     "name": "stdout",
     "output_type": "stream",
     "text": [
      "median exp: [5. 5.]\n",
      "median control: [4. 4.]\n",
      "median dif: [-1. -1.]\n"
     ]
    }
   ],
   "source": [
    "exp_median_scores = map(np.median, get_bootstrap_samples(exp_group['n_clicks'].values, 1000))\n",
    "control_median_scores = map(np.median, get_bootstrap_samples(control_group['n_clicks'].values, 1000))\n",
    "delta_median_scores = map(lambda x: x[1] - x[0], zip(exp_median_scores, control_median_scores))\n",
    "print \"median exp:\",  stat_intervals(exp_median_scores, 0.05)\n",
    "print \"median control:\",  stat_intervals(control_median_scores, 0.05)\n",
    "print \"median dif:\", stat_intervals(delta_median_scores, 0.05)"
   ]
  },
  {
   "cell_type": "markdown",
   "metadata": {},
   "source": [
    "t-критерий Стьюдента имеет множество достоинств, и потому его достаточно часто применяют в AB экспериментах. Иногда его применение может быть необоснованно из-за сильной скошенности распределения данных. \n",
    "\n",
    "Давайте постараемся понять, когда t-критерий можно применять и как это проверить на реальных данных. \n",
    "\n",
    "Для простоты рассмотрим одновыборочный t-критерий.  Его статистика имеет вид $\\frac{\\overline{X}-μ}{\\sqrt{S^{2}/n}}$, то есть чтобы действительно предположения t-критерия выполнялись необходимо, чтобы:\n",
    "\n",
    "* $\\overline{X}$  —  среднее значение в выборке — было распределено нормально $N\\left(μ,\\frac{σ^{2}}{n}\\right)$;\n",
    "* $\\frac{n}{σ^{2}}S^{2}$  — несмещенная оценка дисперсии c масштабирующим коэффициентом —  была распределена по хи-квадрат  c $n−1$ степенями свободы  $χ^{2}(n−1)$.\n",
    "\n",
    "<i>Простое доказательство необходимости и достаточности этого требования  можно посмотреть в самом последнем абзаце этого вопроса. Усвоение этого доказательства не обязательно для выполнения задания.</i>\n",
    "\n",
    "Оба этих предположения можно проверить с помощью бутстрепа. Ограничимся сейчас только контрольной группой, в которой распределение кликов будем называть данными  в рамках данного вопроса. \n",
    "\n",
    "Поскольку мы не знаем истинного распределения генеральной совокупности, мы можем применить бутстреп, чтобы понять, как распределены среднее значение и выборочная дисперсия. Для этого \n",
    "\n",
    "1. Получите из данных n_boot_samples  псевдовыборок;\n",
    "2. По каждой из этих выборок посчитайте среднее и сумму квадратов отклонения от выборочного среднего (control_boot_chi_squared);\n",
    "3. Для получившегося вектора средних значений из n_boot_samples постройте q-q plot с помощью scipy.stats.probplot для нормального распределения;\n",
    "4. Для получившегося вектора  сумм квадратов отклонения от выборочного среднего постройте  qq-plot с помощью scipy.stats.probplot  для хи-квадрат распределения с помощью команды:\n",
    "\n",
    "scipy.stats.probplot(control_boot_chi_squared, dist=\"chi2\", sparams=(n-1), plot=plt)\n",
    "\n",
    "Где sparams=(n-1), plot=plt)scipy.stats.probplot(control_boot_chi_squared, dist=\"chi2\", \n",
    "\n",
    "Где sparams=(n-1) означают число степеней свободы = длине выборки - 1. \n",
    "\n",
    "Чтобы получить такой же ответ, как у нас, зафиксируйте seed и количество псевдовыборок:\n",
    "\n",
    "np.random.seed(0)\n",
    "n_boot_samples = 500\n",
    "\n",
    "В качестве ответа отметьте верные утвердения о  значениях $R^{2}$, которые генерирует scipy.stats.probplot при отображении qq-графиков: одно c графика для среднего  и одно с графика для выборочной суммы квадратов отклонения от выборочной суммы.\n",
    "\n",
    "<b>Почему мы проверяем именно такие условия?</b>\n",
    "\n",
    "В исходной постановке t-критерий требует нормальности распределения $X_{i}. Именно из-за этого предположения мы имеем, что $\\sum_i X_{i}\\sim N \\left(nμ, nσ^{2}\\right)$ в силу линейности матожидания, независимости всех X_{i} между собой и того факта, что сумма нескольких нормальных случайных величин также нормальна. \n",
    "\n",
    "Поэтому, пользуясь опять формальными свойствами матожидания и дисперсии можем записать, что $\\frac{1}{n}\\sum_i X_{i}-μ\\sim N \\left(0, \\frac{σ^{2}}{n}\\right)$ \n",
    "\n",
    "Заметим теперь, что следующие распределения эквивалентны $N \\left(0, \\frac{σ^{2}}{n}\\right)\\sim \\sqrt{\\frac{σ^{2}}{n}}N \\left(0, 1\\right)$\n",
    "\n",
    "То есть другими словами мы получили, что исходная статистика $\\frac{\\overline{X}-μ}{\\sqrt{S^{2}/n}}$ распределена как $\\frac{N\\left(0,1\\right)}{\\sqrt{\\frac{S^{2}n}{nσ^{2}}}}\\sim\\frac{N\\left(0,1\\right)}{\\sqrt{\\frac{S^{2}}{σ^{2}}}}$\n",
    "\n",
    "Вспомним, что распределение Стьюдента с $n−1$ степенями свободы  определяется как $\\frac{N\\left(0,1\\right)}{\\sqrt{χ^{2}/\\left(n-1\\right)}}$. Поэтому и требования, которые накладываются, имеют вид, указанный в начале этого вопроса. \n",
    "\n",
    "Полезно, однако, заметить, что можно подставить в числитель и знаменатель любые случайные величины, распределенные по нормальному закону и по  Хи-квадрат соответственно, для этого необязательно, чтобы именно $X_{i}$ были распределены нормально.   Поэтому, если мы убедимся в том, что, действительно,  числитель и знаменатель распределены образом, указанным выше, то можно смело использовать t-критерий Стьюдента."
   ]
  },
  {
   "cell_type": "code",
   "execution_count": 11,
   "metadata": {},
   "outputs": [],
   "source": [
    "np.random.seed(0)\n",
    "n_boot_samples = 500\n",
    "boot_samples = get_bootstrap_samples(control_group['n_clicks'].values, n_boot_samples)"
   ]
  },
  {
   "cell_type": "code",
   "execution_count": 12,
   "metadata": {},
   "outputs": [],
   "source": [
    "boot_samples_mean = np.mean(boot_samples, axis=1)"
   ]
  },
  {
   "cell_type": "code",
   "execution_count": 13,
   "metadata": {},
   "outputs": [],
   "source": [
    "boot_samples_dif = []\n",
    "for i in range(len(boot_samples)):\n",
    "    dif_sum = 0\n",
    "    for j in range(len(boot_samples[i])):\n",
    "        dif_sum += (boot_samples[i, j] - boot_samples_mean[i]) ** 2\n",
    "    boot_samples_dif.append(dif_sum)\n",
    "boot_samples_dif = np.array(boot_samples_dif)"
   ]
  },
  {
   "cell_type": "code",
   "execution_count": 14,
   "metadata": {},
   "outputs": [
    {
     "name": "stdout",
     "output_type": "stream",
     "text": [
      "Populating the interactive namespace from numpy and matplotlib\n"
     ]
    }
   ],
   "source": [
    "%pylab inline"
   ]
  },
  {
   "cell_type": "code",
   "execution_count": 15,
   "metadata": {},
   "outputs": [
    {
     "data": {
      "image/png": "[encoded data removed]",
      "text/plain": [
       "<Figure size 864x576 with 1 Axes>"
      ]
     },
     "metadata": {
      "needs_background": "light"
     },
     "output_type": "display_data"
    }
   ],
   "source": [
    "pylab.figure(figsize=(12,8))\n",
    "stats.probplot(boot_samples_mean, dist=\"norm\", plot=pylab, rvalue=True)\n",
    "pylab.show()"
   ]
  },
  {
   "cell_type": "code",
   "execution_count": 16,
   "metadata": {},
   "outputs": [
    {
     "data": {
      "image/png": "[encoded data removed]",
      "text/plain": [
       "<Figure size 432x288 with 1 Axes>"
      ]
     },
     "metadata": {
      "needs_background": "light"
     },
     "output_type": "display_data"
    }
   ],
   "source": [
    "stats.probplot(boot_samples_dif, dist=\"chi2\", sparams=(2-1), plot=pylab, rvalue=True)\n",
    "pylab.show()"
   ]
  },
  {
   "cell_type": "markdown",
   "metadata": {},
   "source": [
    "Одним из возможных аналогов t-критерия, которым можно воспрользоваться, является тест Манна-Уитни. На достаточно обширном классе распределений он является асимптотически более эффективным, чем t-критерий, и при этом не требует параметрических предположений о характере распределения.\n",
    "\n",
    "Разделите выборку на две части, соответствующие control  и exp группам. Преобразуйте данные к виду, чтобы каждому пользователю  соответствовало суммарное значение его кликов. С помощью критерия Манна-Уитни проверьте гипотезу о равенстве средних. Что можно сказать о получившемся значении достигаемого уровня значимости?"
   ]
  },
  {
   "cell_type": "code",
   "execution_count": 17,
   "metadata": {},
   "outputs": [
    {
     "data": {
      "text/plain": [
       "MannwhitneyuResult(statistic=38940590204.0, pvalue=3.1236179006848145e-75)"
      ]
     },
     "execution_count": 17,
     "metadata": {},
     "output_type": "execute_result"
    }
   ],
   "source": [
    "stats.mannwhitneyu(exp_group['n_clicks'].values, control_group['n_clicks'].values)"
   ]
  },
  {
   "cell_type": "markdown",
   "metadata": {},
   "source": [
    "Проверьте, для какого из браузеров наиболее сильно выражено отличие между количеством кликов в контрольной и экспериментальной группах.\n",
    "\n",
    "Для этого примените для каждого из срезов (по каждому из уникальных значений столбца browser) критерий Манна-Уитни между control и exp группами и сделайте поправку Холма-Бонферрони на множественную проверку с $α=0.05$.\n",
    "\n",
    "Какое заключение можно сделать исходя из полученных результатов?"
   ]
  },
  {
   "cell_type": "code",
   "execution_count": 18,
   "metadata": {},
   "outputs": [],
   "source": [
    "browsers = set(df['browser'].values)"
   ]
  },
  {
   "cell_type": "code",
   "execution_count": 19,
   "metadata": {},
   "outputs": [],
   "source": [
    "browser_data = []\n",
    "for browser in browsers:\n",
    "    stat, p_val = stats.mannwhitneyu(exp_group[exp_group['browser'] == browser]['n_clicks'],\n",
    "                                     control_group[control_group['browser'] == browser]['n_clicks'])\n",
    "    browser_data.append([browser, stat, p_val])\n",
    "browser_data = np.array(browser_data)"
   ]
  },
  {
   "cell_type": "code",
   "execution_count": 20,
   "metadata": {},
   "outputs": [],
   "source": [
    "browser_data = pd.DataFrame.from_records(browser_data)\n",
    "browser_data.columns = ['browser', 'stat', 'p_val']"
   ]
  },
  {
   "cell_type": "code",
   "execution_count": 21,
   "metadata": {},
   "outputs": [],
   "source": [
    "from statsmodels.sandbox.stats.multicomp import multipletests"
   ]
  },
  {
   "cell_type": "code",
   "execution_count": 22,
   "metadata": {},
   "outputs": [],
   "source": [
    "reject, p_corrected, a1, a2 = multipletests(browser_data['p_val'], alpha = 0.05, method = 'holm')"
   ]
  },
  {
   "cell_type": "code",
   "execution_count": 23,
   "metadata": {},
   "outputs": [
    {
     "data": {
      "text/plain": [
       "array([False, False, False, False, False, False])"
      ]
     },
     "execution_count": 23,
     "metadata": {},
     "output_type": "execute_result"
    }
   ],
   "source": [
    "reject"
   ]
  },
  {
   "cell_type": "markdown",
   "metadata": {},
   "source": [
    "Для каждого браузера в каждой из двух групп (control  и exp) посчитайте долю запросов, в которых пользователь не кликнул ни разу. Это можно сделать, поделив сумму значений  n_nonclk_queries  на сумму значений  n_queries. Умножив это значение на 100, получим процент некликнутых запросов, который можно легче  проинтерпретировать."
   ]
  },
  {
   "cell_type": "code",
   "execution_count": 24,
   "metadata": {},
   "outputs": [
    {
     "name": "stdout",
     "output_type": "stream",
     "text": [
      "6\n"
     ]
    }
   ],
   "source": [
    "print len(np.where(reject == False)[0])"
   ]
  },
  {
   "cell_type": "code",
   "execution_count": 25,
   "metadata": {},
   "outputs": [],
   "source": [
    "exp_non_click = []\n",
    "control_non_click = []\n",
    "for browser in browsers:\n",
    "    exp_browser_group = exp_group[exp_group['browser'] == browser]\n",
    "    exp_non_click.append(float(len(exp_browser_group[exp_browser_group['n_clicks'] == 0])) / len(exp_browser_group))\n",
    "    control_browser_group = control_group[control_group['browser'] == browser]\n",
    "    control_non_click.append(float(len(control_browser_group[control_browser_group['n_clicks'] == 0])) / len(control_browser_group))"
   ]
  },
  {
   "cell_type": "code",
   "execution_count": 26,
   "metadata": {},
   "outputs": [
    {
     "data": {
      "text/plain": [
       "[0.1756879732090856,\n",
       " 0.09814208209642747,\n",
       " 0.11923185143500281,\n",
       " 0.0997578406473333,\n",
       " 0.10871839045099366,\n",
       " 0.19194934418815016]"
      ]
     },
     "execution_count": 26,
     "metadata": {},
     "output_type": "execute_result"
    }
   ],
   "source": [
    "exp_non_click"
   ]
  },
  {
   "cell_type": "code",
   "execution_count": 27,
   "metadata": {},
   "outputs": [
    {
     "data": {
      "text/plain": [
       "[0.18091875324861542,\n",
       " 0.10124426481615638,\n",
       " 0.11863557257222415,\n",
       " 0.10136486645487705,\n",
       " 0.11208267090620032,\n",
       " 0.32899806249025676]"
      ]
     },
     "execution_count": 27,
     "metadata": {},
     "output_type": "execute_result"
    }
   ],
   "source": [
    "control_non_click"
   ]
  }
 ],
 "metadata": {
  "kernelspec": {
   "display_name": "Python 2",
   "language": "python",
   "name": "python2"
  },
  "language_info": {
   "codemirror_mode": {
    "name": "ipython",
    "version": 2
   },
   "file_extension": ".py",
   "mimetype": "text/x-python",
   "name": "python",
   "nbconvert_exporter": "python",
   "pygments_lexer": "ipython2",
   "version": "2.7.18"
  }
 },
 "nbformat": 4,
 "nbformat_minor": 2
}
